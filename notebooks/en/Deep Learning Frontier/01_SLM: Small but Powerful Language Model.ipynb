{
 "cells": [
  {
   "cell_type": "markdown",
   "metadata": {},
   "source": [
    "## Building a Small but Powerful Language Model: Uncovering the Secrets of DeepSeek and Phi-3\n",
    "\n",
    "While large language models (LLMs) are making tremendous progress, they come with significant computational resource consumption and environmental issues. Training and operating LLMs with billions of parameters requires an enormous amount of GPUs, leading to increased carbon emissions and accelerated global warming. Furthermore, the high costs involved in developing LLMs mean that only a few large corporations can lead their development, hindering AI technology democratization and deepening dependence on specific companies.\n",
    "\n",
    "In this context, \"small but powerful\" small language models (SLMs) are emerging as a new alternative for sustainable AI development. SLMs can deliver sufficient performance with limited computational resources, allowing individual developers or small research groups to participate in AI technology development. Additionally, they can reduce energy consumption, alleviate environmental burdens, and lower dependence on specific hardware or platforms, ensuring AI technology diversity.\n",
    "\n",
    "Here, we will conduct an in-depth analysis of the recently popular SLMs, DeepSeek and Phi-3, and provide a guide on how to build your own efficient language model based on their design philosophy and training techniques.\n",
    "\n",
    "**This includes:**\n",
    "\n",
    "*   **Small Giants, DeepSeek and Phi-3:**\n",
    "    *   How did DeepSeek and Phi-3 achieve excellent performance with a small size?\n",
    "    *   What differences do their architectures have compared to existing LLMs?\n",
    "    *   What is data-centric training, and why is it important?\n",
    "    *   What effects does continual pre-training have?\n",
    "\n",
    "*   **Building Your Own Small Language Model**\n",
    "    *   Model architecture design: Analyzing the core components of DeepSeek and Phi-3, and obtaining ideas that can be applied to your own model.\n",
    "    *   Dataset construction and preprocessing: Securing high-quality training data and learning how to process it into a form suitable for your model.\n",
    "    *   Efficient training techniques: Exploring training strategies that can produce the maximum effect with limited resources (e.g., knowledge distillation, quantization, pruning).\n",
    "    *   Model evaluation and fine-tuning: Objectively evaluating the performance of your trained model and learning how to optimize it for specific tasks.\n",
    "\n",
    "**Through this, you will be able to:**\n",
    "\n",
    "*   Understand the core technologies and trends of the latest small language models.\n",
    "*   Develop efficient language models even in resource-constrained environments.\n",
    "*   Build various natural language processing (NLP) applications using your own language model.\n",
    "*   Reduce dependence on large models and explore the possibilities of sustainable AI development.\n",
    "\n",
    "**Large models are not always advantageous. We invite you to the world of small but powerful language models through the innovative approaches of DeepSeek and Phi-3!**"
   ]
  }
 ],
 "metadata": {
  "language_info": {
   "name": "python"
  }
 },
 "nbformat": 4,
 "nbformat_minor": 2
}
