{
 "cells": [
  {
   "cell_type": "markdown",
   "metadata": {},
   "source": [
    "## 11 Capítulo previo: Aprendizaje profundo multimodal: inteligencia más allá de los límites\n",
    "\n",
    "Hola. En el próximo capítulo 11, exploraremos la vanguardia del aprendizaje profundo multimodal y abordaremos en profundidad las asombrosas capacidades y perspectivas futuras de los modelos más recientes. Basándonos en los temas tratados en el capítulo 10, hemos preparado un contenido aún más avanzado con nuevos ejemplos.\n",
    "\n",
    "En este capítulo 11, nos embarcaremos juntos en un viaje hacia sistemas que van más allá de la simple fusión de varias modalidades y se dirigen hacia una \"inteligencia multimodal\" en el verdadero sentido de la palabra. En particular, examinaremos a fondo los siguientes temas clave.\n",
    "\n",
    "*   **Ampliación de ejemplos prácticos:** Aprenderemos a combinar audio, imágenes y preguntas con un ejemplo ampliado de Gemini, e implementar directamente un LMM (Large Multimodal Model) para comprender perfectamente el funcionamiento de los modelos multimodales.\n",
    "*   **Análisis profundo de los modelos más recientes:** Reflexionando sobre las tendencias más actuales en modelos de 2025, examinaremos con detalle la arquitectura LMM y simplificaremos la implementación de modelos basados en CLIP ViT y LLaMA 2/Vicuna. También exploraremos cómo mejorar el rendimiento del modelo a través del ajuste de instrucciones visuales.\n",
    "*   **Perspectivas futuras y desafíos:** Presentaremos los modelos más recientes como Flamingo, Kosmos-2.5, GPT-4V, Gemini Ultra 2.0, y analizaremos objetivamente su rendimiento utilizando conjuntos de datos de referencia multimodales y métricas de evaluación. Proyectaremos el futuro del aprendizaje profundo multimodal y los desafíos a enfrentar, incluyendo perspectivas más allá de 2025 para inspirar tu investigación y desarrollo.\n",
    "\n",
    "En el capítulo 11, no solo abordaremos el contenido teórico, sino que también estaremos preparados con códigos prácticos para construir y experimentar con modelos multimodales. A través de esto, podrás comprender claramente los conceptos clave del aprendizaje profundo multimodal y desarrollar la habilidad de aplicarlos en la práctica.\n",
    "\n",
    "Te esperamos en el capítulo 11 que pronto será publicado."
   ]
  }
 ],
 "metadata": {
  "kernelspec": {
   "display_name": "DL",
   "language": "python",
   "name": "python3"
  },
  "language_info": {
   "codemirror_mode": {
    "name": "ipython",
    "version": 3
   },
   "file_extension": ".py",
   "mimetype": "text/x-python",
   "name": "python",
   "nbconvert_exporter": "python",
   "pygments_lexer": "ipython3",
   "version": "3.10.16"
  }
 },
 "nbformat": 4,
 "nbformat_minor": 2
}
